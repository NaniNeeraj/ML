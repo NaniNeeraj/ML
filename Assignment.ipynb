{
  "nbformat": 4,
  "nbformat_minor": 0,
  "metadata": {
    "colab": {
      "provenance": [],
      "collapsed_sections": []
    },
    "kernelspec": {
      "name": "python3",
      "display_name": "Python 3"
    },
    "language_info": {
      "name": "python"
    }
  },
  "cells": [
    {
      "cell_type": "code",
      "execution_count": 2,
      "metadata": {
        "id": "qYOvESN_FQI2"
      },
      "outputs": [],
      "source": [
        "from sklearn.datasets import load_digits\n",
        "digits = load_digits()"
      ]
    },
    {
      "cell_type": "code",
      "source": [
        "dir(digits)"
      ],
      "metadata": {
        "colab": {
          "base_uri": "https://localhost:8080/"
        },
        "id": "B98jzz4hFm17",
        "outputId": "a41c0c67-922d-485c-c590-a37aa0fdd9e8"
      },
      "execution_count": 3,
      "outputs": [
        {
          "output_type": "execute_result",
          "data": {
            "text/plain": [
              "['DESCR', 'data', 'feature_names', 'frame', 'images', 'target', 'target_names']"
            ]
          },
          "metadata": {},
          "execution_count": 3
        }
      ]
    },
    {
      "cell_type": "code",
      "source": [
        "from sklearn.linear_model import LogisticRegression\n",
        "model1 = LogisticRegression(solver = 'liblinear')\n",
        "model2 = LogisticRegression(solver = 'newton-cg')\n",
        "model3 = LogisticRegression(solver = 'lbfgs')"
      ],
      "metadata": {
        "id": "zN0tZlVLF3jD"
      },
      "execution_count": 24,
      "outputs": []
    },
    {
      "cell_type": "code",
      "source": [
        "from sklearn.model_selection import train_test_split"
      ],
      "metadata": {
        "id": "dY7prw9WGQbJ"
      },
      "execution_count": 25,
      "outputs": []
    },
    {
      "cell_type": "code",
      "source": [
        "X_train, X_test, y_train, y_test = train_test_split(digits.data, digits.target, test_size=0.25)"
      ],
      "metadata": {
        "id": "U2d3OtuOGXGk"
      },
      "execution_count": 26,
      "outputs": []
    },
    {
      "cell_type": "code",
      "source": [
        "model1.fit(X_train, y_train)"
      ],
      "metadata": {
        "colab": {
          "base_uri": "https://localhost:8080/"
        },
        "id": "xFXYHtogGuiu",
        "outputId": "bb76e4d2-fa3e-41da-8c9e-dce9e43545cd"
      },
      "execution_count": 31,
      "outputs": [
        {
          "output_type": "execute_result",
          "data": {
            "text/plain": [
              "LogisticRegression(solver='liblinear')"
            ]
          },
          "metadata": {},
          "execution_count": 31
        }
      ]
    },
    {
      "cell_type": "code",
      "source": [
        "model2.fit(X_train, y_train)"
      ],
      "metadata": {
        "colab": {
          "base_uri": "https://localhost:8080/"
        },
        "id": "MvHrDacMJBjY",
        "outputId": "cfbc4cc2-72e7-425b-ad71-a769cc1284e2"
      },
      "execution_count": 29,
      "outputs": [
        {
          "output_type": "execute_result",
          "data": {
            "text/plain": [
              "LogisticRegression(solver='newton-cg')"
            ]
          },
          "metadata": {},
          "execution_count": 29
        }
      ]
    },
    {
      "cell_type": "code",
      "source": [
        "model3.fit(X_train, y_train)"
      ],
      "metadata": {
        "colab": {
          "base_uri": "https://localhost:8080/"
        },
        "id": "RuXAp7GuJBSP",
        "outputId": "b7660746-4d94-4238-b886-14e622e4e264"
      },
      "execution_count": 32,
      "outputs": [
        {
          "output_type": "stream",
          "name": "stderr",
          "text": [
            "/usr/local/lib/python3.7/dist-packages/sklearn/linear_model/_logistic.py:818: ConvergenceWarning: lbfgs failed to converge (status=1):\n",
            "STOP: TOTAL NO. of ITERATIONS REACHED LIMIT.\n",
            "\n",
            "Increase the number of iterations (max_iter) or scale the data as shown in:\n",
            "    https://scikit-learn.org/stable/modules/preprocessing.html\n",
            "Please also refer to the documentation for alternative solver options:\n",
            "    https://scikit-learn.org/stable/modules/linear_model.html#logistic-regression\n",
            "  extra_warning_msg=_LOGISTIC_SOLVER_CONVERGENCE_MSG,\n"
          ]
        },
        {
          "output_type": "execute_result",
          "data": {
            "text/plain": [
              "LogisticRegression()"
            ]
          },
          "metadata": {},
          "execution_count": 32
        }
      ]
    },
    {
      "cell_type": "code",
      "source": [
        "model1.score(X_test, y_test)"
      ],
      "metadata": {
        "colab": {
          "base_uri": "https://localhost:8080/"
        },
        "id": "ucPi5jIqG0Ex",
        "outputId": "6d6be898-5fa5-4e75-b246-d3a267e3070b"
      },
      "execution_count": 28,
      "outputs": [
        {
          "output_type": "execute_result",
          "data": {
            "text/plain": [
              "0.9533333333333334"
            ]
          },
          "metadata": {},
          "execution_count": 28
        }
      ]
    },
    {
      "cell_type": "code",
      "source": [
        "model2.score(X_test, y_test)"
      ],
      "metadata": {
        "colab": {
          "base_uri": "https://localhost:8080/"
        },
        "id": "Q68zAsSkJTVr",
        "outputId": "133d229e-55b9-49ae-a984-b1bbe34f5335"
      },
      "execution_count": 34,
      "outputs": [
        {
          "output_type": "execute_result",
          "data": {
            "text/plain": [
              "0.9511111111111111"
            ]
          },
          "metadata": {},
          "execution_count": 34
        }
      ]
    },
    {
      "cell_type": "code",
      "source": [
        "model3.score(X_test, y_test)"
      ],
      "metadata": {
        "colab": {
          "base_uri": "https://localhost:8080/"
        },
        "id": "1ipWmca5JVKt",
        "outputId": "c1e0a5df-f74c-4324-8549-e70ff3ba77a4"
      },
      "execution_count": 35,
      "outputs": [
        {
          "output_type": "execute_result",
          "data": {
            "text/plain": [
              "0.9533333333333334"
            ]
          },
          "metadata": {},
          "execution_count": 35
        }
      ]
    },
    {
      "cell_type": "code",
      "source": [
        "y_predict1 = model1.predict(X_test)"
      ],
      "metadata": {
        "id": "0SoW2rsaG9z5"
      },
      "execution_count": 36,
      "outputs": []
    },
    {
      "cell_type": "code",
      "source": [
        "y_predict2 = model2.predict(X_test)"
      ],
      "metadata": {
        "id": "yoQVaV76JbRM"
      },
      "execution_count": 37,
      "outputs": []
    },
    {
      "cell_type": "code",
      "source": [
        "y_predict3 = model3.predict(X_test)"
      ],
      "metadata": {
        "id": "NevFDj4tJhLm"
      },
      "execution_count": 42,
      "outputs": []
    },
    {
      "cell_type": "code",
      "source": [
        "from sklearn.metrics import confusion_matrix\n",
        "confusion_matrix(y_test, y_predict1)"
      ],
      "metadata": {
        "colab": {
          "base_uri": "https://localhost:8080/"
        },
        "id": "FuCvxwdRHJ_5",
        "outputId": "f4fb450c-6e5b-4b24-adb2-30a2b13c7227"
      },
      "execution_count": 39,
      "outputs": [
        {
          "output_type": "execute_result",
          "data": {
            "text/plain": [
              "array([[38,  0,  0,  0,  0,  0,  0,  0,  0,  0],\n",
              "       [ 0, 41,  0,  0,  0,  0,  0,  0,  0,  1],\n",
              "       [ 0,  0, 33,  3,  0,  0,  0,  0,  0,  0],\n",
              "       [ 0,  0,  0, 36,  0,  1,  0,  0,  1,  0],\n",
              "       [ 0,  1,  0,  0, 55,  0,  0,  0,  0,  2],\n",
              "       [ 0,  0,  0,  0,  0, 54,  0,  0,  0,  0],\n",
              "       [ 0,  0,  0,  0,  0,  0, 41,  0,  0,  0],\n",
              "       [ 0,  1,  0,  0,  1,  0,  0, 50,  0,  0],\n",
              "       [ 0,  5,  0,  0,  0,  0,  0,  0, 49,  0],\n",
              "       [ 0,  0,  0,  2,  0,  0,  0,  0,  3, 32]])"
            ]
          },
          "metadata": {},
          "execution_count": 39
        }
      ]
    },
    {
      "cell_type": "code",
      "source": [
        "from sklearn.metrics import confusion_matrix\n",
        "confusion_matrix(y_test, y_predict2)"
      ],
      "metadata": {
        "colab": {
          "base_uri": "https://localhost:8080/"
        },
        "id": "iEbGrh3cJp7P",
        "outputId": "83b5f50c-e2fa-4626-d645-1d53a9736105"
      },
      "execution_count": 40,
      "outputs": [
        {
          "output_type": "execute_result",
          "data": {
            "text/plain": [
              "array([[38,  0,  0,  0,  0,  0,  0,  0,  0,  0],\n",
              "       [ 1, 41,  0,  0,  0,  0,  0,  0,  0,  0],\n",
              "       [ 0,  1, 32,  2,  0,  0,  0,  0,  1,  0],\n",
              "       [ 0,  0,  0, 34,  0,  3,  0,  0,  1,  0],\n",
              "       [ 0,  0,  0,  0, 56,  0,  0,  0,  0,  2],\n",
              "       [ 0,  0,  0,  0,  0, 54,  0,  0,  0,  0],\n",
              "       [ 0,  0,  0,  0,  0,  0, 41,  0,  0,  0],\n",
              "       [ 0,  0,  0,  0,  1,  0,  0, 51,  0,  0],\n",
              "       [ 0,  5,  0,  0,  1,  0,  1,  0, 47,  0],\n",
              "       [ 0,  0,  0,  1,  0,  0,  0,  0,  2, 34]])"
            ]
          },
          "metadata": {},
          "execution_count": 40
        }
      ]
    },
    {
      "cell_type": "code",
      "source": [
        "from sklearn.metrics import confusion_matrix\n",
        "confusion_matrix(y_test, y_predict3)"
      ],
      "metadata": {
        "colab": {
          "base_uri": "https://localhost:8080/"
        },
        "id": "PFCOPboHJsyC",
        "outputId": "58924b23-80da-4014-d26f-ac2f3c09aaba"
      },
      "execution_count": 43,
      "outputs": [
        {
          "output_type": "execute_result",
          "data": {
            "text/plain": [
              "array([[38,  0,  0,  0,  0,  0,  0,  0,  0,  0],\n",
              "       [ 0, 41,  0,  0,  0,  0,  0,  0,  1,  0],\n",
              "       [ 0,  1, 32,  2,  0,  0,  0,  0,  1,  0],\n",
              "       [ 0,  0,  0, 34,  0,  3,  0,  0,  1,  0],\n",
              "       [ 0,  0,  0,  0, 56,  0,  0,  0,  0,  2],\n",
              "       [ 0,  0,  0,  0,  0, 54,  0,  0,  0,  0],\n",
              "       [ 0,  0,  0,  0,  0,  0, 41,  0,  0,  0],\n",
              "       [ 0,  0,  0,  0,  1,  0,  0, 51,  0,  0],\n",
              "       [ 0,  5,  0,  0,  0,  0,  1,  0, 48,  0],\n",
              "       [ 0,  0,  0,  1,  0,  0,  0,  0,  2, 34]])"
            ]
          },
          "metadata": {},
          "execution_count": 43
        }
      ]
    },
    {
      "cell_type": "code",
      "source": [
        "X_train, X_test, y_train, y_test = train_test_split(digits.data, digits.target, test_size=0.4)"
      ],
      "metadata": {
        "id": "54xF846uHjPs"
      },
      "execution_count": 12,
      "outputs": []
    }
  ]
}